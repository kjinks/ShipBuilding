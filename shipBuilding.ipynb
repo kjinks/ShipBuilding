{
 "cells": [
  {
   "cell_type": "code",
   "execution_count": 1,
   "metadata": {},
   "outputs": [],
   "source": [
    "\"\"\"\n",
    "Ken Jinks Aug 2019\n",
    "file: shipBuiding.ipynb\n",
    "An experiment in using production systems to produce generative art with Cairo.\n",
    "\"\"\"\n",
    "from genetics import gene\n",
    "import cairo, math, random\n",
    "\n",
    "DRAWING_WIDTH = 1024\n",
    "DRAWING_HEIGHT = 1024\n",
    "\n",
    "DRAWING_X = 0\n",
    "DRAWING_Y = 512\n",
    "\n",
    "DRAWING_FILENAME = \"./drawing.png\""
   ]
  },
  {
   "cell_type": "code",
   "execution_count": 2,
   "metadata": {},
   "outputs": [
    {
     "name": "stdout",
     "output_type": "stream",
     "text": [
      "Chromosome value is : 0.7329662032425404\n"
     ]
    }
   ],
   "source": [
    "#demonstration of how to get a value from the gene sequence\n",
    "\n",
    "geneSeq = gene.GeneticSequence( num_genes = 1024 )\n",
    "\n",
    "geneSeq.index_push() #pushing the index on the stack so we can reset the gene sequence after demo\n",
    "\n",
    "\"\"\"\n",
    "a min and max value is given and the gene sequence is read giving a value inbetween\n",
    "\"\"\"\n",
    "print(\"Chromosome value is :\",geneSeq.read_next_value( 0.0, 1.0 ) ) \n",
    "\n",
    "geneSeq.index_pop() #popping the index from the stack to restore the gene sequence state to the beginning"
   ]
  },
  {
   "cell_type": "code",
   "execution_count": 3,
   "metadata": {},
   "outputs": [],
   "source": [
    "\"\"\"\n",
    "The classes to build the art\n",
    "\n",
    "About JinksDrawingMechanics:\n",
    "1) Each JinksDrawingMechanics begins at a JinksPoint, the origin.\n",
    "2) Some geometry and properties may change according to the geneSequence they receive.\n",
    "3) They may or may not contribute/modify or remove geometry, \n",
    "4) As well JinksDrawingMechanics may or may not produce more points for other JinksDrawingMechanics to start.\n",
    "\n",
    "\"\"\"\n",
    "\n",
    "class JinksPoint:\n",
    "    #a single point on a cartesian plane\n",
    "    def __init__(self, x_init = 0.0, y_init = 0.0):\n",
    "        \n",
    "        self.x = x_init\n",
    "        self.y = y_init\n",
    "        \n",
    "class JinksDrawingMechanics:\n",
    "    #a set of shapes dependent on geneSequence\n",
    "    #all methods will return an array of zero or more JinksPoint(s)\n",
    "    def __init__(self, origin, geneSequence):\n",
    "        \n",
    "        if not isinstance(origin, JinksPoint):\n",
    "            raise Exception(\"invalid JinksPoint received in drawing mechanics.\")            \n",
    "        if not isinstance(geneSequence, gene.GeneticSequence):\n",
    "            raise Exception(\"invalid gene.GeneticSequence received in drawing mechanics.\")\n",
    "        \n",
    "        self.origin = origin\n",
    "        self.geneSequence = geneSequence\n",
    "        \n",
    "    def wavy_circle(self):\n",
    "        numberOfHarmonics = int(self.geneSequence.read_next_value(0, )) + 1\n",
    "    \n",
    "class JinksAug2019Drawing:\n",
    "    \n",
    "    #a set of drawing instructions\n",
    "    def __init__(self, geneSequence, origin):\n",
    "        \n",
    "        if not isinstance(origin, JinksPoint):\n",
    "            raise Exception(\"invalid JinksPoint received in drawing.\")  \n",
    "        if not isinstance(geneSequence, gene.GeneticSequence):\n",
    "            raise Exception(\"invalid gene.GeneticSequence received in drawing.\")\n",
    "        \n",
    "        self.geneSequence = geneSequence\n",
    "                    \n",
    "        #initialize drawing\n",
    "        self.drawing_surface = cairo.ImageSurface(cairo.FORMAT_ARGB32, DRAWING_WIDTH, DRAWING_HEIGHT)         \n",
    "        self.drawing_context = cairo.Context(self.drawing_surface)      \n",
    "        self.drawing_context.scale(DRAWING_WIDTH, DRAWING_HEIGHT)\n",
    "        self.drawing_context.translate(DRAWING_X, DRAWING_Y)        \n",
    "        self.origin = origin\n",
    "        \n",
    "    def show_canvas(self):\n",
    "        self.drawing_surface.write_to_png(DRAWING_FILENAME)"
   ]
  },
  {
   "cell_type": "code",
   "execution_count": 4,
   "metadata": {},
   "outputs": [],
   "source": [
    "#gene sequence for the art to be made\n",
    "designNetwork = gene.GeneticSequence( 4096 )\n",
    "\n",
    "origin = JinksPoint(0.0, 0.0)\n",
    "\n",
    "handECrafter = JinksAug2019Drawing(designNetwork, origin)\n",
    "\n",
    "handECrafter.show_canvas()"
   ]
  }
 ],
 "metadata": {
  "kernelspec": {
   "display_name": "Python 3",
   "language": "python",
   "name": "python3"
  },
  "language_info": {
   "codemirror_mode": {
    "name": "ipython",
    "version": 3
   },
   "file_extension": ".py",
   "mimetype": "text/x-python",
   "name": "python",
   "nbconvert_exporter": "python",
   "pygments_lexer": "ipython3",
   "version": "3.7.4"
  }
 },
 "nbformat": 4,
 "nbformat_minor": 2
}
