{
 "cells": [
  {
   "cell_type": "code",
   "execution_count": 1,
   "metadata": {},
   "outputs": [],
   "source": [
    "\"\"\"\n",
    "Ken Jinks Aug 2019\n",
    "file: shipBuiding.ipynb\n",
    "An experiment in using production systems to produce generative art with Cairo.\n",
    "\"\"\"\n",
    "from genetics import gene\n",
    "import cairo\n",
    "\n",
    "#gene sequence for the art to be made\n",
    "geneSeq = gene.GeneticSequence(num_genes=1024)"
   ]
  },
  {
   "cell_type": "code",
   "execution_count": 5,
   "metadata": {},
   "outputs": [
    {
     "name": "stdout",
     "output_type": "stream",
     "text": [
      "Chromosome value is : 0.3612695431802422\n"
     ]
    }
   ],
   "source": [
    "#demonstration of how to get a value from the gene sequence\n",
    "\n",
    "geneSeq.index_push() #pushing the index on the stack so we can reset the gene sequence after demo\n",
    "\n",
    "\"\"\"\n",
    "a min and max value is given and the gene sequence is read giving a value inbetween\n",
    "\"\"\"\n",
    "print(\"Chromosome value is :\",geneSeq.read_next_value(0.0, 1.0)) \n",
    "\n",
    "geneSeq.index_pop() #popping the index from the stack to restore the gene sequence state to the beginning"
   ]
  },
  {
   "cell_type": "code",
   "execution_count": 6,
   "metadata": {},
   "outputs": [],
   "source": [
    "#the productions rules for the art\n"
   ]
  },
  {
   "cell_type": "code",
   "execution_count": null,
   "metadata": {},
   "outputs": [],
   "source": []
  }
 ],
 "metadata": {
  "kernelspec": {
   "display_name": "Python 3",
   "language": "python",
   "name": "python3"
  },
  "language_info": {
   "codemirror_mode": {
    "name": "ipython",
    "version": 3
   },
   "file_extension": ".py",
   "mimetype": "text/x-python",
   "name": "python",
   "nbconvert_exporter": "python",
   "pygments_lexer": "ipython3",
   "version": "3.7.4"
  }
 },
 "nbformat": 4,
 "nbformat_minor": 2
}
